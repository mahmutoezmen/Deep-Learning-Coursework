{
  "nbformat": 4,
  "nbformat_minor": 0,
  "metadata": {
    "colab": {
      "name": "exercise4_u.ipynb",
      "provenance": []
    },
    "kernelspec": {
      "name": "python3",
      "display_name": "Python 3"
    },
    "accelerator": "GPU"
  },
  "cells": [
    {
      "cell_type": "code",
      "metadata": {
        "id": "kP7RoOJ22sI7"
      },
      "source": [
        "import numpy as np\n",
        "\n",
        "import matplotlib\n",
        "import matplotlib.pyplot as plt\n",
        "from matplotlib import cm\n",
        "import matplotlib.colors as clr\n",
        "\n",
        "import torch\n",
        "import torch.nn as nn\n",
        "import torch.nn.functional as F\n",
        "import torch.utils.data\n",
        "from torch.autograd import Variable\n",
        "import torch.optim as optim\n",
        "\n",
        "from sklearn.model_selection import train_test_split"
      ],
      "execution_count": null,
      "outputs": []
    },
    {
      "cell_type": "code",
      "metadata": {
        "id": "F8_HW4WT23gU",
        "colab": {
          "base_uri": "https://localhost:8080/",
          "height": 127
        },
        "outputId": "99520523-5100-4a79-aef0-5112cdbf0b65"
      },
      "source": [
        "from google.colab import drive\n",
        "drive.mount(\"/content/drive\", force_remount=True)"
      ],
      "execution_count": null,
      "outputs": [
        {
          "output_type": "stream",
          "text": [
            "Go to this URL in a browser: https://accounts.google.com/o/oauth2/auth?client_id=947318989803-6bn6qk8qdgf4n4g3pfee6491hc0brc4i.apps.googleusercontent.com&redirect_uri=urn%3aietf%3awg%3aoauth%3a2.0%3aoob&response_type=code&scope=email%20https%3a%2f%2fwww.googleapis.com%2fauth%2fdocs.test%20https%3a%2f%2fwww.googleapis.com%2fauth%2fdrive%20https%3a%2f%2fwww.googleapis.com%2fauth%2fdrive.photos.readonly%20https%3a%2f%2fwww.googleapis.com%2fauth%2fpeopleapi.readonly\n",
            "\n",
            "Enter your authorization code:\n",
            "··········\n",
            "Mounted at /content/drive\n"
          ],
          "name": "stdout"
        }
      ]
    },
    {
      "cell_type": "code",
      "metadata": {
        "id": "3hHR5899Ozf0",
        "colab": {
          "base_uri": "https://localhost:8080/",
          "height": 35
        },
        "outputId": "be9a5320-cc97-482a-e349-800f25bab747"
      },
      "source": [
        "device = torch.device(\"cuda:0\" if torch.cuda.is_available() else \"cpu\")\n",
        "device"
      ],
      "execution_count": null,
      "outputs": [
        {
          "output_type": "execute_result",
          "data": {
            "text/plain": [
              "device(type='cuda', index=0)"
            ]
          },
          "metadata": {
            "tags": []
          },
          "execution_count": 4
        }
      ]
    },
    {
      "cell_type": "code",
      "metadata": {
        "id": "YU9QwFMk26XL",
        "colab": {
          "base_uri": "https://localhost:8080/",
          "height": 71
        },
        "outputId": "26822020-bd57-4afc-a1bc-04582c22d0a5"
      },
      "source": [
        "with np.load('drive/My Drive/Deep Learning/exercise_4/prediction-challenge-02-data.npz') as fh:\n",
        "    x_train = fh['x_train']\n",
        "    y_train = fh['y_train']\n",
        "    x_test = fh['x_test']\n",
        "\n",
        "# TRAINING DATA: INPUT (x) AND OUTPUT (y)\n",
        "# 1. INDEX: IMAGE SERIAL NUMBER (6000)\n",
        "# 2/3. INDEX: PIXEL VALUE (32 x 32)\n",
        "# 4. INDEX: COLOR CHANNELS (3)\n",
        "print(x_train.shape, x_train.dtype)\n",
        "print(y_train.shape, y_train.dtype)\n",
        "\n",
        "# TEST DATA: INPUT (x) ONLY\n",
        "print(x_test.shape, x_test.dtype)"
      ],
      "execution_count": null,
      "outputs": [
        {
          "output_type": "stream",
          "text": [
            "(3000, 32, 32, 3) float32\n",
            "(3000,) float64\n",
            "(300, 32, 32, 3) float32\n"
          ],
          "name": "stdout"
        }
      ]
    },
    {
      "cell_type": "code",
      "metadata": {
        "id": "7eFwJAPJ68gt",
        "colab": {
          "base_uri": "https://localhost:8080/",
          "height": 71
        },
        "outputId": "a340eb42-eb2c-4672-8b48-d7f202e6dd43"
      },
      "source": [
        "x_train = np.transpose(x_train, axes=[0, 3, 1, 2])\n",
        "x_test = np.transpose(x_test, axes=[0, 3, 1, 2])\n",
        "\n",
        "print(x_train.shape, x_train.dtype)\n",
        "print(y_train.shape, y_train.dtype)\n",
        "print(x_test.shape, x_test.dtype)"
      ],
      "execution_count": null,
      "outputs": [
        {
          "output_type": "stream",
          "text": [
            "(3000, 3, 32, 32) float32\n",
            "(3000,) float64\n",
            "(300, 3, 32, 32) float32\n"
          ],
          "name": "stdout"
        }
      ]
    },
    {
      "cell_type": "code",
      "metadata": {
        "id": "mXAhns_I4FGi"
      },
      "source": [
        "x_train, x_val, y_train, y_val = train_test_split(x_train, y_train, test_size=0.1, shuffle=True)"
      ],
      "execution_count": null,
      "outputs": []
    },
    {
      "cell_type": "code",
      "metadata": {
        "id": "WnfLK33Q4jN4"
      },
      "source": [
        "BATCH_SIZE = 32\n",
        "\n",
        "torch_x_train = torch.from_numpy(x_train).to(device)\n",
        "torch_y_train = torch.from_numpy(y_train).type(torch.LongTensor).to(device)\n",
        "\n",
        "torch_x_val = torch.from_numpy(x_val).to(device)\n",
        "torch_y_val = torch.from_numpy(y_val).type(torch.LongTensor).to(device)\n",
        "\n",
        "train = torch.utils.data.TensorDataset(torch_x_train,torch_y_train)\n",
        "validate = torch.utils.data.TensorDataset(torch_x_val,torch_y_val)\n",
        "\n",
        "train_loader = torch.utils.data.DataLoader(train, batch_size = BATCH_SIZE, shuffle = False)\n",
        "val_loader = torch.utils.data.DataLoader(validate, batch_size = BATCH_SIZE, shuffle = False)"
      ],
      "execution_count": null,
      "outputs": []
    },
    {
      "cell_type": "code",
      "metadata": {
        "id": "5K0SOw3VOftb",
        "colab": {
          "base_uri": "https://localhost:8080/",
          "height": 197
        },
        "outputId": "cb31fa6f-96ea-4486-ed0e-ab27d9bf1614"
      },
      "source": [
        "class Net(nn.Module):\n",
        "    def __init__(self):\n",
        "        super(Net, self).__init__()\n",
        "        self.conv1 = nn.Conv2d(3,   128,  3)\n",
        "        self.conv2 = nn.Conv2d(128,  256, 3)\n",
        "        self.conv3 = nn.Conv2d(256, 512, 3)\n",
        "        self.pool = nn.MaxPool2d(2, 2)\n",
        "        self.fc1 = nn.Linear(512 * 2 * 2, 128)\n",
        "        self.fc2 = nn.Linear(128, 256)\n",
        "        self.fc3 = nn.Linear(256, 10)\n",
        "        self.dropout = nn.Dropout(p=0.2)\n",
        "\n",
        "\n",
        "    def forward(self, x):\n",
        "        x = self.dropout(self.pool(F.relu(self.conv1(x))))\n",
        "        x = self.dropout(self.pool(F.relu(self.conv2(x))))\n",
        "        x = self.dropout(self.pool(F.relu(self.conv3(x))))\n",
        "        x = x.view(-1, 512 * 2 * 2)\n",
        "        x = self.dropout(F.relu(self.fc1(x)))\n",
        "        x = self.dropout(F.relu(self.fc2(x)))\n",
        "        x = F.log_softmax(self.fc3(x), dim=1)\n",
        "        return x\n",
        "net = Net().to(device)\n",
        "print(net)"
      ],
      "execution_count": null,
      "outputs": [
        {
          "output_type": "stream",
          "text": [
            "Net(\n",
            "  (conv1): Conv2d(3, 128, kernel_size=(3, 3), stride=(1, 1))\n",
            "  (conv2): Conv2d(128, 256, kernel_size=(3, 3), stride=(1, 1))\n",
            "  (conv3): Conv2d(256, 512, kernel_size=(3, 3), stride=(1, 1))\n",
            "  (pool): MaxPool2d(kernel_size=2, stride=2, padding=0, dilation=1, ceil_mode=False)\n",
            "  (fc1): Linear(in_features=2048, out_features=128, bias=True)\n",
            "  (fc2): Linear(in_features=128, out_features=256, bias=True)\n",
            "  (fc3): Linear(in_features=256, out_features=10, bias=True)\n",
            "  (dropout): Dropout(p=0.2, inplace=False)\n",
            ")\n"
          ],
          "name": "stdout"
        }
      ]
    },
    {
      "cell_type": "code",
      "metadata": {
        "id": "7KkS1a_55GPn"
      },
      "source": [
        "criterion = nn.CrossEntropyLoss()\n",
        "optimizer = optim.SGD(net.parameters(), lr=0.001, momentum=0.9)"
      ],
      "execution_count": null,
      "outputs": []
    },
    {
      "cell_type": "code",
      "metadata": {
        "id": "ZdnRFG_WVz-e",
        "colab": {
          "base_uri": "https://localhost:8080/",
          "height": 1000
        },
        "outputId": "0a9d1912-4161-433f-d518-f174c090343b"
      },
      "source": [
        "net.train()                                 # prep model for training\n",
        "\n",
        "max_epoch = 300\n",
        "\n",
        "state_dicts = {}\n",
        "\n",
        "train_loss = np.zeros(max_epoch)\n",
        "val_loss = np.zeros(max_epoch)\n",
        "\n",
        "for epoch in range(max_epoch):  \n",
        "\n",
        "    for X, y in train_loader.items():    \n",
        "        net.zero_grad()                     # zero the parameter gradients\n",
        "        output = net(X)                     # forward pass\n",
        "        loss = criterion(output, y)         # calculate loss\n",
        "        loss.backward()                     # backward pass\n",
        "        optimizer.step()                    # optimize parameters\n",
        "        train_loss[epoch] += loss\n",
        "    train_loss[epoch] /= len(train_loader)  # normalizing the loss by the total number of train batches\n",
        "\n",
        "    with torch.no_grad():\n",
        "        for X, y in val_loader:\n",
        "            output = net(X)\n",
        "            loss = criterion(output, y) \n",
        "            val_loss[epoch] += loss\n",
        "        val_loss[epoch] /= len(val_loader)\n",
        "\n",
        "    state_dicts[epoch] = net.state_dict()   # save network parameters at each epoch\n",
        "\n",
        "    print('epoch %d:\\ttrain loss: %.5f\\tvalidation loss: %.5f'%(epoch, train_loss[epoch], val_loss[epoch])) \n",
        "\n",
        "    if epoch > 100:\n",
        "        if np.polyfit(np.arange(30),val_loss[epoch-30:epoch], deg=1)[0] > 0.01:\n",
        "            break                           # break if validation loss shows an increasing trend\n"
      ],
      "execution_count": null,
      "outputs": [
        {
          "output_type": "stream",
          "text": [
            "epoch 0:\ttrain loss: 2.02586\tvalidation loss: 1.31305\n",
            "epoch 1:\ttrain loss: 1.14971\tvalidation loss: 1.12512\n",
            "epoch 2:\ttrain loss: 1.12813\tvalidation loss: 1.13419\n",
            "epoch 3:\ttrain loss: 1.12056\tvalidation loss: 1.11127\n",
            "epoch 4:\ttrain loss: 1.11289\tvalidation loss: 1.11148\n",
            "epoch 5:\ttrain loss: 1.10979\tvalidation loss: 1.12641\n",
            "epoch 6:\ttrain loss: 1.10953\tvalidation loss: 1.11259\n",
            "epoch 7:\ttrain loss: 1.10634\tvalidation loss: 1.11381\n",
            "epoch 8:\ttrain loss: 1.10147\tvalidation loss: 1.10924\n",
            "epoch 9:\ttrain loss: 1.10187\tvalidation loss: 1.11916\n",
            "epoch 10:\ttrain loss: 1.10246\tvalidation loss: 1.11355\n",
            "epoch 11:\ttrain loss: 1.10110\tvalidation loss: 1.11920\n",
            "epoch 12:\ttrain loss: 1.09916\tvalidation loss: 1.10394\n",
            "epoch 13:\ttrain loss: 1.09373\tvalidation loss: 1.11571\n",
            "epoch 14:\ttrain loss: 1.09545\tvalidation loss: 1.09182\n",
            "epoch 15:\ttrain loss: 1.09516\tvalidation loss: 1.10982\n",
            "epoch 16:\ttrain loss: 1.09419\tvalidation loss: 1.10710\n",
            "epoch 17:\ttrain loss: 1.09165\tvalidation loss: 1.10003\n",
            "epoch 18:\ttrain loss: 1.08794\tvalidation loss: 1.09863\n",
            "epoch 19:\ttrain loss: 1.08678\tvalidation loss: 1.10225\n",
            "epoch 20:\ttrain loss: 1.08451\tvalidation loss: 1.08783\n",
            "epoch 21:\ttrain loss: 1.07822\tvalidation loss: 1.09020\n",
            "epoch 22:\ttrain loss: 1.07604\tvalidation loss: 1.08732\n",
            "epoch 23:\ttrain loss: 1.07017\tvalidation loss: 1.07396\n",
            "epoch 24:\ttrain loss: 1.07024\tvalidation loss: 1.08644\n",
            "epoch 25:\ttrain loss: 1.05692\tvalidation loss: 1.07852\n",
            "epoch 26:\ttrain loss: 1.04431\tvalidation loss: 1.05019\n",
            "epoch 27:\ttrain loss: 1.02831\tvalidation loss: 1.04620\n",
            "epoch 28:\ttrain loss: 1.01799\tvalidation loss: 1.02844\n",
            "epoch 29:\ttrain loss: 1.00770\tvalidation loss: 1.03651\n",
            "epoch 30:\ttrain loss: 1.00213\tvalidation loss: 1.00874\n",
            "epoch 31:\ttrain loss: 0.98827\tvalidation loss: 1.00460\n",
            "epoch 32:\ttrain loss: 0.98898\tvalidation loss: 1.01858\n",
            "epoch 33:\ttrain loss: 0.98501\tvalidation loss: 1.01193\n",
            "epoch 34:\ttrain loss: 0.98134\tvalidation loss: 1.01437\n",
            "epoch 35:\ttrain loss: 0.97157\tvalidation loss: 0.98345\n",
            "epoch 36:\ttrain loss: 0.97509\tvalidation loss: 0.99443\n",
            "epoch 37:\ttrain loss: 0.96515\tvalidation loss: 0.98504\n",
            "epoch 38:\ttrain loss: 0.96728\tvalidation loss: 0.98057\n",
            "epoch 39:\ttrain loss: 0.95959\tvalidation loss: 0.97567\n",
            "epoch 40:\ttrain loss: 0.95203\tvalidation loss: 0.97907\n",
            "epoch 41:\ttrain loss: 0.95663\tvalidation loss: 0.97699\n",
            "epoch 42:\ttrain loss: 0.95496\tvalidation loss: 0.97715\n",
            "epoch 43:\ttrain loss: 0.94215\tvalidation loss: 0.97119\n",
            "epoch 44:\ttrain loss: 0.93885\tvalidation loss: 0.94968\n",
            "epoch 45:\ttrain loss: 0.92833\tvalidation loss: 0.94067\n",
            "epoch 46:\ttrain loss: 0.92270\tvalidation loss: 0.92102\n",
            "epoch 47:\ttrain loss: 0.91907\tvalidation loss: 0.91601\n",
            "epoch 48:\ttrain loss: 0.91148\tvalidation loss: 0.92948\n",
            "epoch 49:\ttrain loss: 0.90591\tvalidation loss: 0.92674\n",
            "epoch 50:\ttrain loss: 0.89903\tvalidation loss: 0.89321\n",
            "epoch 51:\ttrain loss: 0.89785\tvalidation loss: 0.90821\n",
            "epoch 52:\ttrain loss: 0.90401\tvalidation loss: 0.95388\n",
            "epoch 53:\ttrain loss: 0.88930\tvalidation loss: 0.91844\n",
            "epoch 54:\ttrain loss: 0.88488\tvalidation loss: 0.90642\n",
            "epoch 55:\ttrain loss: 0.88770\tvalidation loss: 0.90757\n",
            "epoch 56:\ttrain loss: 0.87742\tvalidation loss: 0.90553\n",
            "epoch 57:\ttrain loss: 0.87311\tvalidation loss: 0.88119\n",
            "epoch 58:\ttrain loss: 0.86193\tvalidation loss: 0.88442\n",
            "epoch 59:\ttrain loss: 0.86316\tvalidation loss: 0.86450\n",
            "epoch 60:\ttrain loss: 0.86195\tvalidation loss: 0.87777\n",
            "epoch 61:\ttrain loss: 0.85841\tvalidation loss: 0.87569\n",
            "epoch 62:\ttrain loss: 0.84767\tvalidation loss: 0.86624\n",
            "epoch 63:\ttrain loss: 0.85226\tvalidation loss: 0.84834\n",
            "epoch 64:\ttrain loss: 0.84047\tvalidation loss: 0.83987\n",
            "epoch 65:\ttrain loss: 0.83876\tvalidation loss: 0.86774\n",
            "epoch 66:\ttrain loss: 0.82921\tvalidation loss: 0.84336\n",
            "epoch 67:\ttrain loss: 0.82898\tvalidation loss: 0.82429\n",
            "epoch 68:\ttrain loss: 0.81823\tvalidation loss: 0.84450\n",
            "epoch 69:\ttrain loss: 0.82145\tvalidation loss: 0.85830\n",
            "epoch 70:\ttrain loss: 0.82756\tvalidation loss: 0.86942\n",
            "epoch 71:\ttrain loss: 0.82213\tvalidation loss: 0.81847\n",
            "epoch 72:\ttrain loss: 0.80446\tvalidation loss: 0.80198\n",
            "epoch 73:\ttrain loss: 0.80042\tvalidation loss: 0.82303\n",
            "epoch 74:\ttrain loss: 0.79187\tvalidation loss: 0.83584\n",
            "epoch 75:\ttrain loss: 0.79405\tvalidation loss: 0.80981\n",
            "epoch 76:\ttrain loss: 0.79256\tvalidation loss: 0.80640\n",
            "epoch 77:\ttrain loss: 0.78333\tvalidation loss: 0.81407\n",
            "epoch 78:\ttrain loss: 0.78493\tvalidation loss: 0.76785\n",
            "epoch 79:\ttrain loss: 0.77382\tvalidation loss: 0.77261\n",
            "epoch 80:\ttrain loss: 0.77661\tvalidation loss: 0.77109\n",
            "epoch 81:\ttrain loss: 0.77363\tvalidation loss: 0.77884\n",
            "epoch 82:\ttrain loss: 0.76907\tvalidation loss: 0.80764\n",
            "epoch 83:\ttrain loss: 0.77452\tvalidation loss: 0.78833\n",
            "epoch 84:\ttrain loss: 0.76359\tvalidation loss: 0.82174\n",
            "epoch 85:\ttrain loss: 0.77062\tvalidation loss: 0.77556\n",
            "epoch 86:\ttrain loss: 0.76245\tvalidation loss: 0.76909\n",
            "epoch 87:\ttrain loss: 0.77096\tvalidation loss: 0.78709\n",
            "epoch 88:\ttrain loss: 0.77383\tvalidation loss: 0.79033\n",
            "epoch 89:\ttrain loss: 0.77418\tvalidation loss: 0.78845\n",
            "epoch 90:\ttrain loss: 0.77571\tvalidation loss: 0.77145\n",
            "epoch 91:\ttrain loss: 0.77774\tvalidation loss: 0.79211\n",
            "epoch 92:\ttrain loss: 0.77470\tvalidation loss: 0.78497\n",
            "epoch 93:\ttrain loss: 0.77266\tvalidation loss: 0.78455\n",
            "epoch 94:\ttrain loss: 0.75317\tvalidation loss: 0.78928\n",
            "epoch 95:\ttrain loss: 0.75978\tvalidation loss: 0.76550\n",
            "epoch 96:\ttrain loss: 0.76081\tvalidation loss: 0.79821\n",
            "epoch 97:\ttrain loss: 0.75020\tvalidation loss: 0.80095\n",
            "epoch 98:\ttrain loss: 0.75282\tvalidation loss: 0.78320\n",
            "epoch 99:\ttrain loss: 0.74975\tvalidation loss: 0.78623\n",
            "epoch 100:\ttrain loss: 0.74520\tvalidation loss: 0.80200\n",
            "epoch 101:\ttrain loss: 0.73069\tvalidation loss: 0.79372\n",
            "epoch 102:\ttrain loss: 0.73672\tvalidation loss: 0.78565\n",
            "epoch 103:\ttrain loss: 0.73488\tvalidation loss: 0.77129\n",
            "epoch 104:\ttrain loss: 0.73035\tvalidation loss: 0.77594\n",
            "epoch 105:\ttrain loss: 0.72468\tvalidation loss: 0.77090\n",
            "epoch 106:\ttrain loss: 0.73276\tvalidation loss: 0.80367\n",
            "epoch 107:\ttrain loss: 0.72460\tvalidation loss: 0.77623\n",
            "epoch 108:\ttrain loss: 0.71827\tvalidation loss: 0.78878\n",
            "epoch 109:\ttrain loss: 0.72661\tvalidation loss: 0.79767\n",
            "epoch 110:\ttrain loss: 0.71296\tvalidation loss: 0.79019\n",
            "epoch 111:\ttrain loss: 0.70898\tvalidation loss: 0.77881\n",
            "epoch 112:\ttrain loss: 0.71994\tvalidation loss: 0.79209\n",
            "epoch 113:\ttrain loss: 0.70561\tvalidation loss: 0.76927\n",
            "epoch 114:\ttrain loss: 0.70525\tvalidation loss: 0.80762\n",
            "epoch 115:\ttrain loss: 0.69249\tvalidation loss: 0.78206\n",
            "epoch 116:\ttrain loss: 0.69459\tvalidation loss: 0.76678\n",
            "epoch 117:\ttrain loss: 0.70192\tvalidation loss: 0.78518\n",
            "epoch 118:\ttrain loss: 0.68401\tvalidation loss: 0.77316\n",
            "epoch 119:\ttrain loss: 0.68840\tvalidation loss: 0.76254\n",
            "epoch 120:\ttrain loss: 0.68753\tvalidation loss: 0.78737\n",
            "epoch 121:\ttrain loss: 0.67993\tvalidation loss: 0.77108\n",
            "epoch 122:\ttrain loss: 0.67669\tvalidation loss: 0.73893\n",
            "epoch 123:\ttrain loss: 0.66670\tvalidation loss: 0.75773\n",
            "epoch 124:\ttrain loss: 0.67664\tvalidation loss: 0.76864\n",
            "epoch 125:\ttrain loss: 0.66462\tvalidation loss: 0.75901\n",
            "epoch 126:\ttrain loss: 0.65965\tvalidation loss: 0.69986\n",
            "epoch 127:\ttrain loss: 0.66340\tvalidation loss: 0.76724\n",
            "epoch 128:\ttrain loss: 0.66914\tvalidation loss: 0.78295\n",
            "epoch 129:\ttrain loss: 0.65578\tvalidation loss: 0.74412\n",
            "epoch 130:\ttrain loss: 0.64710\tvalidation loss: 0.76578\n",
            "epoch 131:\ttrain loss: 0.65002\tvalidation loss: 0.72901\n",
            "epoch 132:\ttrain loss: 0.65711\tvalidation loss: 0.79514\n",
            "epoch 133:\ttrain loss: 0.63596\tvalidation loss: 0.73761\n",
            "epoch 134:\ttrain loss: 0.63611\tvalidation loss: 0.77347\n",
            "epoch 135:\ttrain loss: 0.63485\tvalidation loss: 0.74869\n",
            "epoch 136:\ttrain loss: 0.63395\tvalidation loss: 0.74246\n",
            "epoch 137:\ttrain loss: 0.61139\tvalidation loss: 0.76656\n",
            "epoch 138:\ttrain loss: 0.61831\tvalidation loss: 0.71002\n",
            "epoch 139:\ttrain loss: 0.60765\tvalidation loss: 0.70228\n",
            "epoch 140:\ttrain loss: 0.61930\tvalidation loss: 0.78089\n",
            "epoch 141:\ttrain loss: 0.60074\tvalidation loss: 0.70887\n",
            "epoch 142:\ttrain loss: 0.59982\tvalidation loss: 0.72504\n",
            "epoch 143:\ttrain loss: 0.59869\tvalidation loss: 0.72771\n",
            "epoch 144:\ttrain loss: 0.59650\tvalidation loss: 0.74169\n",
            "epoch 145:\ttrain loss: 0.59210\tvalidation loss: 0.73377\n",
            "epoch 146:\ttrain loss: 0.58478\tvalidation loss: 0.75242\n",
            "epoch 147:\ttrain loss: 0.59076\tvalidation loss: 0.73411\n",
            "epoch 148:\ttrain loss: 0.57263\tvalidation loss: 0.74637\n",
            "epoch 149:\ttrain loss: 0.56751\tvalidation loss: 0.71833\n",
            "epoch 150:\ttrain loss: 0.56192\tvalidation loss: 0.72333\n",
            "epoch 151:\ttrain loss: 0.55960\tvalidation loss: 0.75092\n",
            "epoch 152:\ttrain loss: 0.55087\tvalidation loss: 0.74875\n",
            "epoch 153:\ttrain loss: 0.53539\tvalidation loss: 0.74332\n",
            "epoch 154:\ttrain loss: 0.53344\tvalidation loss: 0.75334\n",
            "epoch 155:\ttrain loss: 0.54395\tvalidation loss: 0.75005\n",
            "epoch 156:\ttrain loss: 0.51926\tvalidation loss: 0.77557\n",
            "epoch 157:\ttrain loss: 0.52168\tvalidation loss: 0.78040\n",
            "epoch 158:\ttrain loss: 0.51411\tvalidation loss: 0.89197\n",
            "epoch 159:\ttrain loss: 0.51501\tvalidation loss: 0.78307\n",
            "epoch 160:\ttrain loss: 0.50430\tvalidation loss: 0.79327\n",
            "epoch 161:\ttrain loss: 0.50799\tvalidation loss: 0.76033\n",
            "epoch 162:\ttrain loss: 0.48713\tvalidation loss: 0.72744\n",
            "epoch 163:\ttrain loss: 0.48881\tvalidation loss: 0.77295\n",
            "epoch 164:\ttrain loss: 0.46740\tvalidation loss: 0.73183\n",
            "epoch 165:\ttrain loss: 0.47785\tvalidation loss: 0.81638\n",
            "epoch 166:\ttrain loss: 0.45691\tvalidation loss: 0.76588\n",
            "epoch 167:\ttrain loss: 0.45748\tvalidation loss: 0.80949\n",
            "epoch 168:\ttrain loss: 0.44934\tvalidation loss: 0.80343\n",
            "epoch 169:\ttrain loss: 0.43739\tvalidation loss: 0.83800\n",
            "epoch 170:\ttrain loss: 0.45078\tvalidation loss: 0.86811\n",
            "epoch 171:\ttrain loss: 0.43672\tvalidation loss: 0.84011\n",
            "epoch 172:\ttrain loss: 0.42134\tvalidation loss: 0.82036\n",
            "epoch 173:\ttrain loss: 0.43314\tvalidation loss: 0.86370\n",
            "epoch 174:\ttrain loss: 0.40956\tvalidation loss: 0.84826\n",
            "epoch 175:\ttrain loss: 0.39920\tvalidation loss: 0.94199\n",
            "epoch 176:\ttrain loss: 0.40023\tvalidation loss: 0.90560\n",
            "epoch 177:\ttrain loss: 0.37358\tvalidation loss: 0.85759\n",
            "epoch 178:\ttrain loss: 0.37763\tvalidation loss: 0.96955\n",
            "epoch 179:\ttrain loss: 0.38210\tvalidation loss: 1.00050\n",
            "epoch 180:\ttrain loss: 0.36914\tvalidation loss: 0.86863\n",
            "epoch 181:\ttrain loss: 0.35426\tvalidation loss: 0.84913\n",
            "epoch 182:\ttrain loss: 0.34953\tvalidation loss: 0.84982\n",
            "epoch 183:\ttrain loss: 0.33216\tvalidation loss: 1.02221\n",
            "epoch 184:\ttrain loss: 0.33948\tvalidation loss: 0.81375\n",
            "epoch 185:\ttrain loss: 0.33180\tvalidation loss: 0.89086\n",
            "epoch 186:\ttrain loss: 0.31672\tvalidation loss: 0.79650\n",
            "epoch 187:\ttrain loss: 0.31348\tvalidation loss: 0.78851\n",
            "epoch 188:\ttrain loss: 0.29581\tvalidation loss: 0.74053\n",
            "epoch 189:\ttrain loss: 0.28049\tvalidation loss: 0.87349\n",
            "epoch 190:\ttrain loss: 0.27235\tvalidation loss: 0.78116\n",
            "epoch 191:\ttrain loss: 0.28688\tvalidation loss: 0.79158\n",
            "epoch 192:\ttrain loss: 0.26564\tvalidation loss: 0.93708\n",
            "epoch 193:\ttrain loss: 0.27045\tvalidation loss: 0.86910\n",
            "epoch 194:\ttrain loss: 0.23549\tvalidation loss: 0.83075\n",
            "epoch 195:\ttrain loss: 0.25721\tvalidation loss: 0.90611\n",
            "epoch 196:\ttrain loss: 0.22576\tvalidation loss: 0.80822\n",
            "epoch 197:\ttrain loss: 0.23607\tvalidation loss: 0.85483\n",
            "epoch 198:\ttrain loss: 0.22093\tvalidation loss: 0.87582\n",
            "epoch 199:\ttrain loss: 0.21428\tvalidation loss: 1.04965\n",
            "epoch 200:\ttrain loss: 0.21480\tvalidation loss: 0.95300\n",
            "epoch 201:\ttrain loss: 0.21064\tvalidation loss: 0.91123\n",
            "epoch 202:\ttrain loss: 0.18555\tvalidation loss: 1.03271\n",
            "epoch 203:\ttrain loss: 0.19955\tvalidation loss: 0.97055\n",
            "epoch 204:\ttrain loss: 0.18433\tvalidation loss: 0.84718\n",
            "epoch 205:\ttrain loss: 0.20266\tvalidation loss: 0.88257\n",
            "epoch 206:\ttrain loss: 0.18570\tvalidation loss: 0.89162\n",
            "epoch 207:\ttrain loss: 0.17201\tvalidation loss: 0.84839\n",
            "epoch 208:\ttrain loss: 0.15403\tvalidation loss: 0.93770\n",
            "epoch 209:\ttrain loss: 0.15531\tvalidation loss: 0.95762\n",
            "epoch 210:\ttrain loss: 0.13143\tvalidation loss: 0.88860\n",
            "epoch 211:\ttrain loss: 0.13412\tvalidation loss: 0.98752\n",
            "epoch 212:\ttrain loss: 0.13079\tvalidation loss: 0.90855\n",
            "epoch 213:\ttrain loss: 0.12419\tvalidation loss: 0.95086\n",
            "epoch 214:\ttrain loss: 0.10627\tvalidation loss: 0.96087\n",
            "epoch 215:\ttrain loss: 0.12229\tvalidation loss: 0.96947\n",
            "epoch 216:\ttrain loss: 0.11138\tvalidation loss: 0.81004\n",
            "epoch 217:\ttrain loss: 0.12243\tvalidation loss: 1.09459\n",
            "epoch 218:\ttrain loss: 0.09682\tvalidation loss: 1.01898\n",
            "epoch 219:\ttrain loss: 0.08949\tvalidation loss: 1.07812\n",
            "epoch 220:\ttrain loss: 0.07989\tvalidation loss: 1.03003\n",
            "epoch 221:\ttrain loss: 0.07192\tvalidation loss: 0.95278\n",
            "epoch 222:\ttrain loss: 0.06320\tvalidation loss: 0.99099\n",
            "epoch 223:\ttrain loss: 0.07485\tvalidation loss: 1.02492\n",
            "epoch 224:\ttrain loss: 0.08164\tvalidation loss: 1.04832\n",
            "epoch 225:\ttrain loss: 0.06211\tvalidation loss: 1.06382\n",
            "epoch 226:\ttrain loss: 0.06054\tvalidation loss: 1.13536\n",
            "epoch 227:\ttrain loss: 0.05622\tvalidation loss: 1.28806\n",
            "epoch 228:\ttrain loss: 0.05421\tvalidation loss: 1.10807\n",
            "epoch 229:\ttrain loss: 0.05398\tvalidation loss: 1.17311\n",
            "epoch 230:\ttrain loss: 0.06158\tvalidation loss: 1.07408\n",
            "epoch 231:\ttrain loss: 0.06029\tvalidation loss: 1.09933\n",
            "epoch 232:\ttrain loss: 0.05217\tvalidation loss: 1.14490\n",
            "epoch 233:\ttrain loss: 0.04813\tvalidation loss: 1.12501\n",
            "epoch 234:\ttrain loss: 0.05703\tvalidation loss: 1.17322\n"
          ],
          "name": "stdout"
        }
      ]
    },
    {
      "cell_type": "code",
      "metadata": {
        "id": "h2eLT2vLfu5D"
      },
      "source": [
        "idx = val_loss > 0\n",
        "val_loss = val_loss[idx]\n",
        "train_loss = train_loss[idx]"
      ],
      "execution_count": null,
      "outputs": []
    },
    {
      "cell_type": "code",
      "metadata": {
        "id": "f1xtV1GMnauB"
      },
      "source": [
        "best_epoch = np.argmin(val_loss)                # select the epoch with lowest validation loss\n",
        "net.load_state_dict(state_dicts[best_epoch]);  "
      ],
      "execution_count": null,
      "outputs": []
    },
    {
      "cell_type": "code",
      "metadata": {
        "id": "FPkgGtUeW7TU",
        "colab": {
          "base_uri": "https://localhost:8080/",
          "height": 279
        },
        "outputId": "f0a7d947-2fb3-4509-9904-4fa1ac98c742"
      },
      "source": [
        "f, ax = plt.subplots()\n",
        "ax.plot(train_loss, label='training')\n",
        "ax.plot(val_loss, label='validation')\n",
        "ax.axvline(best_epoch, c='k', ls='--')\n",
        "ax.set_xlabel('epoch')\n",
        "ax.set_ylabel('loss')\n",
        "ax.legend(loc='lower left');"
      ],
      "execution_count": null,
      "outputs": [
        {
          "output_type": "display_data",
          "data": {
            "image/png": "[encoded data removed]",
            "text/plain": [
              "<Figure size 432x288 with 1 Axes>"
            ]
          },
          "metadata": {
            "tags": [],
            "needs_background": "light"
          }
        }
      ]
    },
    {
      "cell_type": "code",
      "metadata": {
        "id": "dH2g6gkw5deD",
        "colab": {
          "base_uri": "https://localhost:8080/",
          "height": 53
        },
        "outputId": "d13fb8c2-a4ab-4642-b662-bbd8d4aa5c69"
      },
      "source": [
        "net.cpu().eval()\n",
        "\n",
        "output_train = net(torch_x_train.cpu()).cpu().detach().numpy().argmax(axis=1)\n",
        "output_val = net(torch_x_val.cpu()).cpu().detach().numpy().argmax(axis=1)\n",
        "\n",
        "print('Training accuracy:\\t%.3f'%(sum(output_train == y_train)/len(y_train)))\n",
        "print('Validation accuracy:\\t%.3f'%(sum(output_val == y_val)/len(y_val)))"
      ],
      "execution_count": null,
      "outputs": [
        {
          "output_type": "stream",
          "text": [
            "Training accuracy:\t1.000\n",
            "Validation accuracy:\t0.740\n"
          ],
          "name": "stdout"
        }
      ]
    },
    {
      "cell_type": "code",
      "metadata": {
        "id": "g2y2Oosxi7sm",
        "colab": {
          "base_uri": "https://localhost:8080/",
          "height": 71
        },
        "outputId": "f97397e2-1d40-46e8-e76f-8c03e62eba3a"
      },
      "source": [
        "confusion_matrix = np.zeros((3,3))\n",
        "for real, pred in zip(y_val,output_val):\n",
        "    confusion_matrix[int(real),int(pred)] += 1\n",
        "confusion_matrix"
      ],
      "execution_count": null,
      "outputs": [
        {
          "output_type": "execute_result",
          "data": {
            "text/plain": [
              "array([[48., 32., 13.],\n",
              "       [17., 68.,  7.],\n",
              "       [ 9., 10., 96.]])"
            ]
          },
          "metadata": {
            "tags": []
          },
          "execution_count": 106
        }
      ]
    },
    {
      "cell_type": "code",
      "metadata": {
        "id": "QQwUE_qollkf",
        "colab": {
          "base_uri": "https://localhost:8080/",
          "height": 279
        },
        "outputId": "5501efe1-8979-460e-d5c3-27478ef1d438"
      },
      "source": [
        "f, ax = plt.subplots()\n",
        "ax.imshow(confusion_matrix, cmap='binary')\n",
        "ax.set_xticks([0,1,2])\n",
        "ax.set_xticklabels(['cat', 'dog', 'frog'])\n",
        "ax.set_yticks([0,1,2])\n",
        "ax.set_yticklabels(['cat', 'dog', 'frog'])\n",
        "ax.set_xlabel('prediction')\n",
        "ax.set_ylabel('ground truth')\n",
        "for i in range(3):\n",
        "    for j in range(3):\n",
        "        ax.annotate(int(confusion_matrix[i,j]), (j,i), c='C3', ha='center', va='center')"
      ],
      "execution_count": null,
      "outputs": [
        {
          "output_type": "display_data",
          "data": {
            "image/png": "[encoded data removed]",
            "text/plain": [
              "<Figure size 432x288 with 1 Axes>"
            ]
          },
          "metadata": {
            "tags": [],
            "needs_background": "light"
          }
        }
      ]
    },
    {
      "cell_type": "code",
      "metadata": {
        "id": "2XaV79B1mfR6"
      },
      "source": [
        "prediction = net(torch.from_numpy(x_test)).cpu().detach().numpy().argmax(axis=1)\n",
        "# MAKE SURE THAT YOU HAVE THE RIGHT FORMAT\n",
        "assert prediction.ndim == 1\n",
        "assert prediction.shape[0] == 300\n",
        "\n",
        "# AND SAVE EXACTLY AS SHOWN BELOW\n",
        "np.save('drive/My Drive/Deep Learning/exercise_4/prediction_0.740.npy', prediction)"
      ],
      "execution_count": null,
      "outputs": []
    },
    {
      "cell_type": "code",
      "metadata": {
        "id": "rxQ9IPwfm5qQ"
      },
      "source": [
        ""
      ],
      "execution_count": null,
      "outputs": []
    }
  ]
}